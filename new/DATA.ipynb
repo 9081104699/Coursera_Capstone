{
  "nbformat": 4,
  "nbformat_minor": 0,
  "metadata": {
    "colab": {
      "name": "DATA.ipynb",
      "provenance": []
    },
    "kernelspec": {
      "name": "python3",
      "display_name": "Python 3"
    }
  },
  "cells": [
    {
      "cell_type": "markdown",
      "metadata": {
        "id": "x7qZxg0AG0tk",
        "colab_type": "text"
      },
      "source": [
        "# **Data Needed**"
      ]
    },
    {
      "cell_type": "markdown",
      "metadata": {
        "id": "H89-ySZ1HA1Q",
        "colab_type": "text"
      },
      "source": [
        "df = roadAccStats13-16.csv\n",
        "\n",
        "df1 = Details_of_road_accident_deaths_by_situation_state_2014.csv\n",
        "\n",
        "df2 = Persons_killed_due_to_Non-use_of_Safety_Device_2016.csv\n",
        "\n",
        "df3 = datafile.xls - total number of accidents from 2003 to 16 per state.\n",
        "\n",
        "df4 = laneAccidents.csv\n",
        "\n",
        "df5 = reasonOfAccident.csv\n",
        "\n",
        "df6 = typeOfVehicle.csv\n",
        "\n",
        "df7 = timeOfOccurence.csv"
      ]
    },
    {
      "cell_type": "code",
      "metadata": {
        "id": "0n6SgYW3H0ja",
        "colab_type": "code",
        "colab": {}
      },
      "source": [
        ""
      ],
      "execution_count": null,
      "outputs": []
    }
  ]
}