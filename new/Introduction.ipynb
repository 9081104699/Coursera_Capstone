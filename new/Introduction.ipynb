{
  "nbformat": 4,
  "nbformat_minor": 0,
  "metadata": {
    "colab": {
      "name": "Introduction.ipynb",
      "provenance": []
    },
    "kernelspec": {
      "name": "python3",
      "display_name": "Python 3"
    }
  },
  "cells": [
    {
      "cell_type": "markdown",
      "metadata": {
        "id": "x7qZxg0AG0tk",
        "colab_type": "text"
      },
      "source": [
        "# **Introduction**"
      ]
    },
    {
      "cell_type": "markdown",
      "metadata": {
        "id": "H89-ySZ1HA1Q",
        "colab_type": "text"
      },
      "source": [
        "We hvae tried to predict the number of road accidents that can take place in india by using the road accidents dataset available on kaggle. This project uses Matplotlib for data visualization and scikits learn linear regression model for making prediction."
      ]
    }
  ]
}