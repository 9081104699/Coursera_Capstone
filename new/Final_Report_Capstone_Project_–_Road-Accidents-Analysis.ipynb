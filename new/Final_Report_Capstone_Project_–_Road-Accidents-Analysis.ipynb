{
  "nbformat": 4,
  "nbformat_minor": 0,
  "metadata": {
    "kernelspec": {
      "display_name": "Python 3.6",
      "language": "python",
      "name": "python3"
    },
    "language_info": {
      "codemirror_mode": {
        "name": "ipython",
        "version": 3
      },
      "file_extension": ".py",
      "mimetype": "text/x-python",
      "name": "python",
      "nbconvert_exporter": "python",
      "pygments_lexer": "ipython3",
      "version": "3.6.8"
    },
    "colab": {
      "name": "Final Report  - Capstone Project – The Battle of Neighborhoods  Finding a Better Place in Scarborough, Toronto.ipynb",
      "provenance": []
    }
  },
  "cells": [
    {
      "cell_type": "markdown",
      "metadata": {
        "collapsed": true,
        "id": "rt6Xbwxu_dW0",
        "colab_type": "text"
      },
      "source": [
        "# Final Report | Capstone Project – Road Accident in India"
      ]
    },
    {
      "cell_type": "markdown",
      "metadata": {
        "id": "YARPfsZ5_dW3",
        "colab_type": "text"
      },
      "source": [
        "## 1. Introduction:\n",
        "\n",
        "The purpose of this Project is to help people in exploring better facilities around their neighborhood. It will help people making smart and efficient decision.\n",
        "\n",
        "Project is usefull for people safety\n",
        "\n",
        "## 2. Data Section\n",
        "\n",
        "Data : For this project i collect data from kaggle and download in my local machine\n",
        "\n",
        "\n",
        "#### Work Flow:\n",
        "i specially preprocess data and then visualize it\n",
        "\n",
        "#### Importants Of Analays\n",
        "it may help particular area to increas their safety\n",
        "\n",
        "\n",
        "#### Libraries Which are Used to Develope the Project:\n",
        "\n",
        "> Pandas: For creating and manipulating dataframes.\n",
        ">\n",
        "> Scikit Learn: For importing k-means clustering.\n",
        ">\n",
        "> JSON: Library to handle JSON files.\n",
        ">\n",
        "> XML: To separate data from presentation and XML stores data in plain text format.\n",
        "> \n",
        "> Matplotlib: Python Plotting Module.\n",
        "\n",
        "<br/>\n"
      ]
    }
  ]
}